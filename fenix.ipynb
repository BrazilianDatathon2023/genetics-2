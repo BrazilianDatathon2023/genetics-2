{
 "cells": [
  {
   "cell_type": "code",
   "execution_count": 1,
   "id": "3d7ccce3-698b-437a-bf7c-f4a5f58a3a84",
   "metadata": {
    "tags": []
   },
   "outputs": [],
   "source": [
    "%matplotlib inline\n",
    "# importing packages \n",
    "import seaborn as sns\n",
    "\n",
    "  \n",
    "#"
   ]
  },
  {
   "cell_type": "code",
   "execution_count": 2,
   "id": "65720e6e-791d-4730-a51c-cc82184eb563",
   "metadata": {
    "tags": []
   },
   "outputs": [],
   "source": [
    "import boto3\n",
    "import seaborn as sns\n",
    "import matplotlib as plt"
   ]
  },
  {
   "cell_type": "code",
   "execution_count": 3,
   "id": "ce9ac6c3-2f8c-45cc-8aee-dba123eaf209",
   "metadata": {
    "tags": []
   },
   "outputs": [],
   "source": [
    "s3 = boto3.client('s3')"
   ]
  },
  {
   "cell_type": "code",
   "execution_count": 4,
   "id": "f1f691d2-6fe5-4238-827f-99030ebcb026",
   "metadata": {
    "tags": []
   },
   "outputs": [],
   "source": [
    "def load_effect_sizes(effect_sizes):\n",
    "    \"\"\"Get effect size for each variant\"\"\"\n",
    "    # Example: load_effect_sizes(\"resources/prs-scores-PGS002296.tsv\")\n",
    "    effect_sizes = pd.read_csv(effect_sizes, sep = \"\\t\")\n",
    "    effect_sizes = effect_sizes[['chr', 'pos_hg38', 'risk_allele', 'weight']]\n",
    "    effect_sizes['chr'] = effect_sizes['chr'].astype(str)\n",
    "    effect_sizes['pos_hg38'] = effect_sizes['pos_hg38'].astype(int)\n",
    "    effect_sizes['locus'] = effect_sizes['chr'].astype(str) + ':' + effect_sizes['pos_hg38'].astype(str) # pylint: disable=line-too-long\n",
    "    effect_sizes_dict = effect_sizes[['locus', 'weight', 'risk_allele']].set_index('locus').T.to_dict() # pylint: disable=line-too-long\n",
    "    return effect_sizes_dict"
   ]
  },
  {
   "cell_type": "code",
   "execution_count": 5,
   "id": "b905c8ec-0544-4f87-8326-f9fd2596ad18",
   "metadata": {
    "tags": []
   },
   "outputs": [],
   "source": [
    "\"\"\"Script for calculation PRS in a additive fashion (sum(beta * genotype))\"\"\"\n",
    "import pandas as pd\n",
    "\n",
    "\n",
    "def process_line(line, vcf_names, risk_alleles_weight, index_chr, index_pos, prs_sum): # pylint: disable=line-too-long\n",
    "    \"\"\"Calculate PRS sum for all samples\"\"\"\n",
    "    locus = line[index_chr]+\":\"+line[index_pos]\n",
    "\n",
    "    try:\n",
    "        risk_variant_locus = risk_alleles_weight[locus]['effect_weight']\n",
    "        risk_allele = risk_alleles_weight[locus]['effect_allele']\n",
    "\n",
    "        # get risk_allele index\n",
    "        risk_allele_index = get_effect_risk_index(line, risk_allele, vcf_names)\n",
    "\n",
    "        n_samples = len(vcf_names)\n",
    "\n",
    "        sample_effects = [\n",
    "            sum_risk_allele_index(\n",
    "                sample_genotype = x.split(\":\")[0],\n",
    "                risk_allele_index = risk_allele_index,\n",
    "                risk_variant_locus = risk_variant_locus) for x in line[9:n_samples]\n",
    "        ]\n",
    "\n",
    "        return add_sample_effect(sample_effects, prs_sum)\n",
    "\n",
    "    except KeyError:\n",
    "        print(f\"Variant {locus} present in VCF is not present in PRS file\")\n",
    "\n",
    "        return prs_sum\n",
    "\n",
    "def add_sample_effect(values_to_add, prs_sum):\n",
    "    \"\"\"Create sum of PRS of each sample\"\"\"\n",
    "    if prs_sum == []:\n",
    "        new_sum = values_to_add\n",
    "    else:\n",
    "        new_sum = [x + y for x, y in zip(values_to_add, prs_sum)]\n",
    "\n",
    "    return new_sum\n",
    "\n",
    "\n",
    "def sum_risk_allele_index(sample_genotype, risk_allele_index, risk_variant_locus):\n",
    "    \"\"\"Calc additive model\"\"\"\n",
    "    return sample_genotype.count(str(risk_allele_index)) * risk_variant_locus\n",
    "\n",
    "def get_effect_risk_index(line, risk_allele, vcf_names):\n",
    "    \"\"\"Get GT index for risk allele\"\"\"\n",
    "    try:\n",
    "        risk_allele_index = line[vcf_names.index('ALT')].split(\",\").index(risk_allele) + 1\n",
    "    except ValueError:\n",
    "        risk_allele_index = -1\n",
    "\n",
    "    # if risk allele is are the reference allele\n",
    "    if line[vcf_names.index('REF')] == risk_allele:\n",
    "        risk_allele_index =  0\n",
    "\n",
    "    return risk_allele_index"
   ]
  },
  {
   "cell_type": "code",
   "execution_count": 6,
   "id": "5567f4f1-93d7-4e22-907a-aef1b6595c40",
   "metadata": {
    "tags": []
   },
   "outputs": [],
   "source": [
    "def calc_vcf_prs(vcf_filename: str, risk_alleles_weight: dict) -> dict:\n",
    "    \"\"\"\n",
    "    Calculate PRS of each sample by multiplying the effect_size (weight) by the number of risk alleles\n",
    "    Args:\n",
    "        vcf_filename (str): path to the VCF file;\n",
    "        risk_alleles_weight (dict): dictionary as follows\n",
    "        {'chr1:959139': {'weight': 0.05, 'risk_allele': 'G'},\n",
    "        'chr1:1127258': {'weight': -0.016, 'risk_allele': 'C'},\n",
    "        'chr1:1748780': {'weight': 0.021, 'risk_allele': 'G'},\n",
    "        'chr1:2115499': {'weight': -0.019, 'risk_allele': 'G'}}\n",
    "    Returns:\n",
    "        dict: as follows\n",
    "        {'Sample_01': 2.3,\n",
    "        'Sample_02': -4.5,\n",
    "        'Sample_03': -2.8,\n",
    "        'Sample_04': 3.6,\n",
    "        'Sample_05': 5.17\n",
    "        }\n",
    "    \"\"\"\n",
    "    got_header = False\n",
    "    prs_sum = []\n",
    "    with open(vcf_filename, 'r') as vcf_file:\n",
    "        for raw_line in vcf_file:\n",
    "            line = raw_line.split('\\t')\n",
    "            # Skip commentaries\n",
    "            if raw_line[0:2] == '##':\n",
    "                continue\n",
    "            if not got_header:\n",
    "                # get headers\n",
    "                vcf_names = [x.strip() for x in line]\n",
    "                vcf_names[0] = 'CHROM'\n",
    "                index_chr = vcf_names.index('CHROM')\n",
    "                index_pos = vcf_names.index('POS')\n",
    "                got_header = True\n",
    "            else:\n",
    "                prs_sum = process_line(\n",
    "                    line, vcf_names, risk_alleles_weight,\n",
    "                    index_chr, index_pos, prs_sum)\n",
    "    sample_names = vcf_names[9::]\n",
    "    return dict(zip(sample_names, [ round(x, 5) for x in prs_sum ]))"
   ]
  },
  {
   "cell_type": "code",
   "execution_count": 7,
   "id": "201df361-98ce-4168-b3f4-c8ae13f1a82b",
   "metadata": {
    "tags": []
   },
   "outputs": [],
   "source": [
    "file_5 = \"s3://grupo2-brasileiros/PGS002296_hmPOS_GRCh38.tsv\"\n",
    "\n",
    "GRCh38 = pd.read_csv(file_5, delimiter=\"\\t\", comment=\"#\")"
   ]
  },
  {
   "cell_type": "code",
   "execution_count": 8,
   "id": "0fb4b141-121d-4bb2-a2f7-c33b6e52fe97",
   "metadata": {
    "tags": []
   },
   "outputs": [],
   "source": [
    "def load_effect_sizes(effect_sizes):\n",
    "    \"\"\"Get effect size for each variant\"\"\"\n",
    "    # Example: load_effect_sizes(\"resources/prs-scores-PGS002296.tsv\")\n",
    "    effect_sizes = pd.read_csv(effect_sizes, sep = \"\\t\")\n",
    "    effect_sizes = effect_sizes[['chr', 'pos_hg38', 'effect_allele', 'effect_weight']]\n",
    "    effect_sizes['chr'] = effect_sizes['chr'].astype(str)\n",
    "    effect_sizes['pos_hg38'] = effect_sizes['pos_hg38'].astype(int)\n",
    "    effect_sizes['locus'] = effect_sizes['chr'].astype(str) + ':' + effect_sizes['pos_hg38'].astype(str) # pylint: disable=line-too-long\n",
    "    effect_sizes_dict = effect_sizes[['locus', 'effect_weight', 'effect_allele']].set_index('locus').T.to_dict() # pylint: disable=line-too-long\n",
    "    return effect_sizes_dict"
   ]
  },
  {
   "cell_type": "code",
   "execution_count": 9,
   "id": "8883e221-d73f-4363-8151-e94d1d4a74a4",
   "metadata": {
    "tags": []
   },
   "outputs": [],
   "source": [
    "dict_weight = load_effect_sizes(file_5)"
   ]
  },
  {
   "cell_type": "code",
   "execution_count": 10,
   "id": "aae5b21f-6e8d-4f9e-994f-ec9f57013896",
   "metadata": {
    "tags": []
   },
   "outputs": [],
   "source": [
    "file_1 = \"s3://grupo2-brasileiros/datathon-pheno.tsv\""
   ]
  },
  {
   "cell_type": "code",
   "execution_count": 11,
   "id": "303d77e6-81cd-4929-bae0-2440bfa48f33",
   "metadata": {
    "tags": []
   },
   "outputs": [],
   "source": [
    "file_6 = \"s3://grupo2-brasileiros/target_cohort2.vcf\""
   ]
  },
  {
   "cell_type": "code",
   "execution_count": 12,
   "id": "68ff6be9-3867-472c-ac70-505b71735720",
   "metadata": {},
   "outputs": [
    {
     "name": "stderr",
     "output_type": "stream",
     "text": [
      "/opt/conda/lib/python3.7/site-packages/IPython/core/interactiveshell.py:3553: DtypeWarning: Columns (1,5) have mixed types.Specify dtype option on import or set low_memory=False.\n",
      "  exec(code_obj, self.user_global_ns, self.user_ns)\n"
     ]
    }
   ],
   "source": [
    "df = pd.read_csv(file_6,  delimiter = '\\t', skiprows =  range(1,3397) )"
   ]
  },
  {
   "cell_type": "code",
   "execution_count": 13,
   "id": "f6670def-bf98-4f71-a76a-ef8227f02dc2",
   "metadata": {
    "tags": []
   },
   "outputs": [],
   "source": [
    "# Calculate original PRS\n",
    "obj = s3.download_file(Bucket=\"grupo2-brasileiros\", Key=\"target_cohort2.vcf\", Filename = \"target_cohort2.vcf\" )\n",
    "\n",
    "\n",
    "samples_prs =  calc_vcf_prs(\"target_cohort2.vcf\", dict_weight)\n",
    "samples_prs = pd.DataFrame(zip(list(samples_prs.keys()), list(samples_prs.values())))"
   ]
  },
  {
   "cell_type": "code",
   "execution_count": 14,
   "id": "46015b4a-a1ed-4b1c-ac6d-86056ecf7db2",
   "metadata": {
    "tags": []
   },
   "outputs": [],
   "source": [
    "samples_prs = samples_prs.rename(columns = {0:'s',1:'PRS'})"
   ]
  },
  {
   "cell_type": "code",
   "execution_count": 15,
   "id": "53b867f9-f220-403d-b072-ac68a35c4af6",
   "metadata": {
    "tags": []
   },
   "outputs": [],
   "source": [
    "fenotipos = pd.read_csv(file_1, sep = '\\t')"
   ]
  },
  {
   "cell_type": "code",
   "execution_count": 16,
   "id": "bfcc60de-7715-4d1f-b549-3826bee08d38",
   "metadata": {
    "tags": []
   },
   "outputs": [],
   "source": [
    "fenotipo_PRS  = samples_prs.merge(fenotipos, how = 'right', on = 's')"
   ]
  },
  {
   "cell_type": "code",
   "execution_count": 17,
   "id": "081bae01-86ef-4268-8b57-db3a41335c5a",
   "metadata": {
    "tags": []
   },
   "outputs": [
    {
     "data": {
      "text/plain": [
       "0.531104058124154"
      ]
     },
     "execution_count": 17,
     "metadata": {},
     "output_type": "execute_result"
    }
   ],
   "source": [
    "from sklearn.metrics import roc_auc_score\n",
    "\n",
    "roc_auc_score(fenotipo_PRS['target_phenotype'],  fenotipo_PRS['PRS'])"
   ]
  },
  {
   "cell_type": "code",
   "execution_count": 18,
   "id": "85d7e434-e0d5-4ec6-9df0-f03de18ecaa0",
   "metadata": {
    "tags": []
   },
   "outputs": [
    {
     "data": {
      "text/plain": [
       "<matplotlib.axes._subplots.AxesSubplot at 0x7fe8a6c5c5d0>"
      ]
     },
     "execution_count": 18,
     "metadata": {},
     "output_type": "execute_result"
    },
    {
     "data": {
      "image/png": "[encoded data removed]",
      "text/plain": [
       "<Figure size 640x480 with 1 Axes>"
      ]
     },
     "metadata": {},
     "output_type": "display_data"
    }
   ],
   "source": [
    "sns.violinplot(data=fenotipo_PRS,  y=\"PRS\", x = 'target_phenotype', hue=\"target_phenotype\")\n"
   ]
  },
  {
   "cell_type": "code",
   "execution_count": 19,
   "id": "2ed048c9-b458-48c2-be1e-bf5a9c4148dd",
   "metadata": {
    "tags": []
   },
   "outputs": [],
   "source": [
    "file_2 = \"s3://grupo2-brasileiros/snps-functional-classification.tsv\""
   ]
  },
  {
   "cell_type": "code",
   "execution_count": 20,
   "id": "df320fa5-453e-4b25-8a3c-92c6dfc65ebe",
   "metadata": {
    "tags": []
   },
   "outputs": [],
   "source": [
    "snp_func = pd.read_csv(file_2, delimiter=\"\\t\")                          # anotação funcional dos SNPs"
   ]
  },
  {
   "cell_type": "code",
   "execution_count": 21,
   "id": "e50834b3-a897-4d88-a1fa-cbcd8b523bdc",
   "metadata": {
    "tags": []
   },
   "outputs": [],
   "source": [
    "# criando \"ID\" com Cromossomo Posição Alelo chamado CPA com o alelo de efeito no hg38\n",
    "# quem tem esse alelo (na população onde foi feito o PRS) tem o effect_weight\n",
    "GRCh38['CPA_GRCh38'] = GRCh38['chr'].astype(str) + \"-\" + GRCh38['pos_hg38'].astype(str) + \"-\"+ GRCh38['effect_allele'].astype(str)\n",
    "# criando um ID também em hg19 que é a mesma coisa que hg37\n",
    "GRCh38['CPA_GRCh37'] = GRCh38['chr'].astype(str) + \"-\" + GRCh38['pos_hg19'].astype(str) + \"-\"+ GRCh38['effect_allele'].astype(str)\n",
    "# criando esse mesmo ID para o snp_func para depois poder juntar essas duas tabelas\n",
    "snp_func['CPA_snp_func_Hg19'] = \"chr\" + snp_func['chromosome'].astype(str) + \"-\" + snp_func['pos_hg19'].astype(str) + \"-\"+ snp_func['effect_allele'].astype(str)"
   ]
  },
  {
   "cell_type": "code",
   "execution_count": 22,
   "id": "7bf8e80f-987d-43e7-a254-61b774a394ce",
   "metadata": {
    "tags": []
   },
   "outputs": [],
   "source": [
    "dfinal_GRCh38_snp_func = GRCh38.merge(snp_func, how='left', left_on='CPA_GRCh37', right_on='CPA_snp_func_Hg19')"
   ]
  },
  {
   "cell_type": "code",
   "execution_count": 23,
   "id": "d41b4726-38c3-46c9-98e3-eb352875f7ed",
   "metadata": {
    "tags": []
   },
   "outputs": [],
   "source": [
    "dfinal_GRCh38_snp_func['new_1'] = (dfinal_GRCh38_snp_func['consequence'] .isin([\n",
    "    'missense_variant','3_prime_UTR_variant','5_prime_UTR_variant','synonymous_variant'])).astype(int)*dfinal_GRCh38_snp_func['sift'] "
   ]
  },
  {
   "cell_type": "code",
   "execution_count": 24,
   "id": "b3553221-ddfb-449b-8131-b0b7fbd780e9",
   "metadata": {
    "tags": []
   },
   "outputs": [],
   "source": [
    "dfinal_GRCh38_snp_func['new_2'] = (dfinal_GRCh38_snp_func['consequence'] .isin([\n",
    "    'missense_variant','3_prime_UTR_variant','5_prime_UTR_variant','synonymous_variant'])).astype(int)*dfinal_GRCh38_snp_func['poly_phen'] "
   ]
  },
  {
   "cell_type": "code",
   "execution_count": 25,
   "id": "42c4f078-5afe-4a95-bc29-1ce78cea7d1c",
   "metadata": {
    "tags": []
   },
   "outputs": [],
   "source": [
    "dfinal_GRCh38_snp_func_2 = dfinal_GRCh38_snp_func[['consequence','Artery_Aorta', 'Artery_Coronary', 'Artery_Tibial', 'Bladder', \n",
    "                        'Heart_Atrial_Appendage', 'Heart_Left_Ventricle', 'Whole_Blood' ,'new_1','new_2','Kidney_Cortex','Whole_Blood', 'gene_set','gnom_ad_genome_amr']]"
   ]
  },
  {
   "cell_type": "code",
   "execution_count": 26,
   "id": "4cf946ea-9817-4af7-8282-b7dd29498bbb",
   "metadata": {
    "tags": []
   },
   "outputs": [],
   "source": [
    "for i in dfinal_GRCh38_snp_func_2.columns[:-1]:\n",
    "    dfinal_GRCh38_snp_func_2 = dfinal_GRCh38_snp_func_2.merge(pd.get_dummies(dfinal_GRCh38_snp_func_2[i], prefix = i), how = 'left', left_index=True, right_index=True)"
   ]
  },
  {
   "cell_type": "code",
   "execution_count": 27,
   "id": "61d725f7-8e8d-45bc-b219-6a40f9e3ce68",
   "metadata": {
    "tags": []
   },
   "outputs": [],
   "source": [
    "dfinal_GRCh38_snp_func_2.drop(columns =['consequence','Artery_Aorta', 'Artery_Coronary', 'Artery_Tibial', 'Bladder', \n",
    "                        'Heart_Atrial_Appendage', 'Heart_Left_Ventricle', 'Whole_Blood' ,'new_1','new_2','Kidney_Cortex','Whole_Blood', 'gene_set','gnom_ad_genome_amr'], axis =1, inplace = True )"
   ]
  },
  {
   "cell_type": "code",
   "execution_count": 28,
   "id": "0fff77f5-9af7-475b-98f5-4108ed3e0ec1",
   "metadata": {
    "tags": []
   },
   "outputs": [],
   "source": [
    "def load_effect_sizes_2(effect_sizes, i):\n",
    "    \"\"\"Get effect size for each variant\"\"\"\n",
    "    # Example: load_effect_sizes(\"resources/prs-scores-PGS002296.tsv\")\n",
    "    effect_sizes = effect_sizes\n",
    "    effect_sizes = effect_sizes[['chr', 'pos_hg38', 'effect_allele', i]].rename(columns = {i:'effect_weight'})\n",
    "    effect_sizes['chr'] = effect_sizes['chr'].astype(str)\n",
    "    effect_sizes['pos_hg38'] = effect_sizes['pos_hg38'].astype(int)\n",
    "    effect_sizes['locus'] = effect_sizes['chr'].astype(str) + ':' + effect_sizes['pos_hg38'].astype(str) # pylint: disable=line-too-long\n",
    "    effect_sizes_dict = effect_sizes[['locus', 'effect_weight', 'effect_allele']].set_index('locus').T.to_dict() # pylint: disable=line-too-long\n",
    "    return effect_sizes_dict"
   ]
  },
  {
   "cell_type": "code",
   "execution_count": 29,
   "id": "b28fc409-70d8-4a02-8c6f-49461e35f902",
   "metadata": {
    "tags": []
   },
   "outputs": [],
   "source": [
    "dfinal_GRCh38_snp_func_2 = dfinal_GRCh38_snp_func_2.merge(\n",
    "    dfinal_GRCh38_snp_func[['chr','pos_hg38_x','effect_allele_x']], how = 'left', left_index=True, right_index=True).rename(columns = \n",
    "                                                                                                                           {'pos_hg38_x':'pos_hg38', 'effect_allele_x':'effect_allele'})"
   ]
  },
  {
   "cell_type": "code",
   "execution_count": 30,
   "id": "314df6d5-6984-4091-8b57-4b6f20a61ff7",
   "metadata": {
    "tags": []
   },
   "outputs": [
    {
     "name": "stderr",
     "output_type": "stream",
     "text": [
      "/opt/conda/lib/python3.7/site-packages/ipykernel_launcher.py:9: UserWarning: DataFrame columns are not unique, some columns will be omitted.\n",
      "  if __name__ == '__main__':\n"
     ]
    },
    {
     "data": {
      "text/plain": [
       "array([28, 31, 32, ..., 33, 35, 30])"
      ]
     },
     "execution_count": 30,
     "metadata": {},
     "output_type": "execute_result"
    }
   ],
   "source": [
    "prs_aux = calc_vcf_prs(\"target_cohort2.vcf\", load_effect_sizes_2(dfinal_GRCh38_snp_func_2, 'consequence_3_prime_UTR_variant'))\n",
    "prs_aux = pd.DataFrame(zip(list(prs_aux.keys()), list(prs_aux.values())))\n",
    "prs_aux.iloc[:,1].values"
   ]
  },
  {
   "cell_type": "code",
   "execution_count": 31,
   "id": "705a2c28-da68-4332-8ae0-00601395cdad",
   "metadata": {
    "tags": []
   },
   "outputs": [
    {
     "name": "stderr",
     "output_type": "stream",
     "text": [
      "/opt/conda/lib/python3.7/site-packages/ipykernel_launcher.py:9: UserWarning: DataFrame columns are not unique, some columns will be omitted.\n",
      "  if __name__ == '__main__':\n"
     ]
    }
   ],
   "source": [
    "PRss =  prs_aux[[0]]\n",
    "for i in dfinal_GRCh38_snp_func_2.columns[:-3]:\n",
    "        prs_aux = calc_vcf_prs(\"target_cohort2.vcf\", load_effect_sizes_2(dfinal_GRCh38_snp_func_2, i))\n",
    "        prs_aux = pd.DataFrame(zip(list(prs_aux.keys()), list(prs_aux.values())))\n",
    "        prs_aux.rename(columns = {1:i}, inplace = True)\n",
    "        PRss =  PRss.merge(prs_aux, how = 'left', on = 0)\n",
    "     \n"
   ]
  },
  {
   "cell_type": "code",
   "execution_count": 32,
   "id": "d7698625-00fc-4dd6-a803-a28fa28dd49e",
   "metadata": {
    "tags": []
   },
   "outputs": [
    {
     "data": {
      "text/html": [
       "<div>\n",
       "<style scoped>\n",
       "    .dataframe tbody tr th:only-of-type {\n",
       "        vertical-align: middle;\n",
       "    }\n",
       "\n",
       "    .dataframe tbody tr th {\n",
       "        vertical-align: top;\n",
       "    }\n",
       "\n",
       "    .dataframe thead th {\n",
       "        text-align: right;\n",
       "    }\n",
       "</style>\n",
       "<table border=\"1\" class=\"dataframe\">\n",
       "  <thead>\n",
       "    <tr style=\"text-align: right;\">\n",
       "      <th></th>\n",
       "      <th>s</th>\n",
       "      <th>PRS</th>\n",
       "      <th>target_phenotype</th>\n",
       "      <th>bmi</th>\n",
       "      <th>age</th>\n",
       "      <th>sex</th>\n",
       "      <th>pc1</th>\n",
       "      <th>pc2</th>\n",
       "      <th>pc3</th>\n",
       "      <th>pc4</th>\n",
       "      <th>pc5</th>\n",
       "    </tr>\n",
       "  </thead>\n",
       "  <tbody>\n",
       "    <tr>\n",
       "      <th>0</th>\n",
       "      <td>Sample_62</td>\n",
       "      <td>-1.143</td>\n",
       "      <td>1</td>\n",
       "      <td>32.218000</td>\n",
       "      <td>61</td>\n",
       "      <td>M</td>\n",
       "      <td>-0.170593</td>\n",
       "      <td>-0.083687</td>\n",
       "      <td>-0.002978</td>\n",
       "      <td>0.036140</td>\n",
       "      <td>-0.014352</td>\n",
       "    </tr>\n",
       "    <tr>\n",
       "      <th>1</th>\n",
       "      <td>Sample_1029</td>\n",
       "      <td>-1.780</td>\n",
       "      <td>1</td>\n",
       "      <td>24.348423</td>\n",
       "      <td>71</td>\n",
       "      <td>F</td>\n",
       "      <td>-0.020599</td>\n",
       "      <td>-0.003149</td>\n",
       "      <td>0.004546</td>\n",
       "      <td>-0.008520</td>\n",
       "      <td>0.005531</td>\n",
       "    </tr>\n",
       "    <tr>\n",
       "      <th>2</th>\n",
       "      <td>Sample_821</td>\n",
       "      <td>-2.616</td>\n",
       "      <td>1</td>\n",
       "      <td>29.142830</td>\n",
       "      <td>61</td>\n",
       "      <td>F</td>\n",
       "      <td>-0.046461</td>\n",
       "      <td>-0.038442</td>\n",
       "      <td>-0.016533</td>\n",
       "      <td>-0.006880</td>\n",
       "      <td>0.011157</td>\n",
       "    </tr>\n",
       "    <tr>\n",
       "      <th>3</th>\n",
       "      <td>Sample_56</td>\n",
       "      <td>-1.682</td>\n",
       "      <td>1</td>\n",
       "      <td>27.539062</td>\n",
       "      <td>63</td>\n",
       "      <td>F</td>\n",
       "      <td>-0.116739</td>\n",
       "      <td>-0.045862</td>\n",
       "      <td>0.033690</td>\n",
       "      <td>0.029004</td>\n",
       "      <td>0.027046</td>\n",
       "    </tr>\n",
       "    <tr>\n",
       "      <th>4</th>\n",
       "      <td>Sample_47</td>\n",
       "      <td>-1.302</td>\n",
       "      <td>1</td>\n",
       "      <td>29.965397</td>\n",
       "      <td>63</td>\n",
       "      <td>M</td>\n",
       "      <td>-0.031261</td>\n",
       "      <td>-0.001217</td>\n",
       "      <td>-0.021570</td>\n",
       "      <td>0.005165</td>\n",
       "      <td>0.003345</td>\n",
       "    </tr>\n",
       "    <tr>\n",
       "      <th>...</th>\n",
       "      <td>...</td>\n",
       "      <td>...</td>\n",
       "      <td>...</td>\n",
       "      <td>...</td>\n",
       "      <td>...</td>\n",
       "      <td>...</td>\n",
       "      <td>...</td>\n",
       "      <td>...</td>\n",
       "      <td>...</td>\n",
       "      <td>...</td>\n",
       "      <td>...</td>\n",
       "    </tr>\n",
       "    <tr>\n",
       "      <th>1087</th>\n",
       "      <td>Sample_160</td>\n",
       "      <td>-1.774</td>\n",
       "      <td>0</td>\n",
       "      <td>18.420244</td>\n",
       "      <td>65</td>\n",
       "      <td>F</td>\n",
       "      <td>-0.215638</td>\n",
       "      <td>-0.036359</td>\n",
       "      <td>-0.012529</td>\n",
       "      <td>0.036099</td>\n",
       "      <td>0.006637</td>\n",
       "    </tr>\n",
       "    <tr>\n",
       "      <th>1088</th>\n",
       "      <td>Sample_443</td>\n",
       "      <td>-1.981</td>\n",
       "      <td>0</td>\n",
       "      <td>31.615793</td>\n",
       "      <td>68</td>\n",
       "      <td>M</td>\n",
       "      <td>-0.483780</td>\n",
       "      <td>0.039192</td>\n",
       "      <td>-0.004574</td>\n",
       "      <td>0.027172</td>\n",
       "      <td>0.002503</td>\n",
       "    </tr>\n",
       "    <tr>\n",
       "      <th>1089</th>\n",
       "      <td>Sample_326</td>\n",
       "      <td>-2.943</td>\n",
       "      <td>0</td>\n",
       "      <td>37.655820</td>\n",
       "      <td>77</td>\n",
       "      <td>F</td>\n",
       "      <td>-0.035433</td>\n",
       "      <td>-0.006781</td>\n",
       "      <td>-0.028934</td>\n",
       "      <td>0.000846</td>\n",
       "      <td>0.006089</td>\n",
       "    </tr>\n",
       "    <tr>\n",
       "      <th>1090</th>\n",
       "      <td>Sample_1080</td>\n",
       "      <td>-2.139</td>\n",
       "      <td>0</td>\n",
       "      <td>29.140661</td>\n",
       "      <td>72</td>\n",
       "      <td>M</td>\n",
       "      <td>-0.138432</td>\n",
       "      <td>-0.027647</td>\n",
       "      <td>-0.025699</td>\n",
       "      <td>0.015562</td>\n",
       "      <td>0.018976</td>\n",
       "    </tr>\n",
       "    <tr>\n",
       "      <th>1091</th>\n",
       "      <td>Sample_1323</td>\n",
       "      <td>-1.190</td>\n",
       "      <td>0</td>\n",
       "      <td>22.863018</td>\n",
       "      <td>73</td>\n",
       "      <td>F</td>\n",
       "      <td>-0.328352</td>\n",
       "      <td>0.027174</td>\n",
       "      <td>-0.023856</td>\n",
       "      <td>0.013797</td>\n",
       "      <td>-0.014955</td>\n",
       "    </tr>\n",
       "  </tbody>\n",
       "</table>\n",
       "<p>1092 rows × 11 columns</p>\n",
       "</div>"
      ],
      "text/plain": [
       "                s    PRS  target_phenotype        bmi  age sex       pc1  \\\n",
       "0       Sample_62 -1.143                 1  32.218000   61   M -0.170593   \n",
       "1     Sample_1029 -1.780                 1  24.348423   71   F -0.020599   \n",
       "2      Sample_821 -2.616                 1  29.142830   61   F -0.046461   \n",
       "3       Sample_56 -1.682                 1  27.539062   63   F -0.116739   \n",
       "4       Sample_47 -1.302                 1  29.965397   63   M -0.031261   \n",
       "...           ...    ...               ...        ...  ...  ..       ...   \n",
       "1087   Sample_160 -1.774                 0  18.420244   65   F -0.215638   \n",
       "1088   Sample_443 -1.981                 0  31.615793   68   M -0.483780   \n",
       "1089   Sample_326 -2.943                 0  37.655820   77   F -0.035433   \n",
       "1090  Sample_1080 -2.139                 0  29.140661   72   M -0.138432   \n",
       "1091  Sample_1323 -1.190                 0  22.863018   73   F -0.328352   \n",
       "\n",
       "           pc2       pc3       pc4       pc5  \n",
       "0    -0.083687 -0.002978  0.036140 -0.014352  \n",
       "1    -0.003149  0.004546 -0.008520  0.005531  \n",
       "2    -0.038442 -0.016533 -0.006880  0.011157  \n",
       "3    -0.045862  0.033690  0.029004  0.027046  \n",
       "4    -0.001217 -0.021570  0.005165  0.003345  \n",
       "...        ...       ...       ...       ...  \n",
       "1087 -0.036359 -0.012529  0.036099  0.006637  \n",
       "1088  0.039192 -0.004574  0.027172  0.002503  \n",
       "1089 -0.006781 -0.028934  0.000846  0.006089  \n",
       "1090 -0.027647 -0.025699  0.015562  0.018976  \n",
       "1091  0.027174 -0.023856  0.013797 -0.014955  \n",
       "\n",
       "[1092 rows x 11 columns]"
      ]
     },
     "execution_count": 32,
     "metadata": {},
     "output_type": "execute_result"
    }
   ],
   "source": [
    "fenotipo_PRS"
   ]
  },
  {
   "cell_type": "code",
   "execution_count": 33,
   "id": "ed016eb3-d9a1-4b8e-b510-c4320a5ec0ab",
   "metadata": {
    "tags": []
   },
   "outputs": [],
   "source": [
    "PRss = PRss.merge(fenotipo_PRS[['s','PRS','target_phenotype']], how = 'right', left_on = 0, right_on='s').drop(columns = 0)"
   ]
  },
  {
   "cell_type": "code",
   "execution_count": 41,
   "id": "1eae06d3-27fd-45d2-8339-94f20aa0e505",
   "metadata": {
    "tags": []
   },
   "outputs": [],
   "source": [
    "from sklearn.preprocessing import StandardScaler\n",
    "scaler = StandardScaler()\n",
    "scaler.fit(PRss.drop(columns = ['s','target_phenotype']))\n",
    "teste = scaler.transform(PRss.drop(columns = ['s','target_phenotype']))\n"
   ]
  },
  {
   "cell_type": "code",
   "execution_count": 42,
   "id": "05be2eb1-2a60-4330-8d29-ded557baecca",
   "metadata": {
    "tags": []
   },
   "outputs": [
    {
     "data": {
      "text/plain": [
       "array([[ 0.42066226,  0.69133828,  1.36996999, ...,  0.47588884,\n",
       "         1.11787845,  1.32418477],\n",
       "       [ 0.10516556, -0.95700539, -0.75849558, ...,  0.47588884,\n",
       "         0.33057181, -0.39814462],\n",
       "       [ 0.10516556, -0.95700539,  0.15370395, ...,  0.47588884,\n",
       "        -0.7026909 , -0.07813188],\n",
       "       ...,\n",
       "       [-0.52582782, -0.95700539, -0.75849558, ...,  0.47588884,\n",
       "        -1.10684988, -0.01908296],\n",
       "       [ 0.10516556,  0.69133828, -0.75849558, ...,  0.47588884,\n",
       "        -0.11313789, -0.77297649],\n",
       "       [ 1.05165564, -0.95700539, -0.75849558, ..., -1.96387931,\n",
       "         1.05978832, -0.35752803]])"
      ]
     },
     "execution_count": 42,
     "metadata": {},
     "output_type": "execute_result"
    }
   ],
   "source": [
    "teste"
   ]
  },
  {
   "cell_type": "code",
   "execution_count": 43,
   "id": "dc09dd49-4586-4a0a-82e5-595529a828e5",
   "metadata": {
    "tags": []
   },
   "outputs": [],
   "source": [
    "PRss['means'] = teste.mean(axis = 1)"
   ]
  },
  {
   "cell_type": "code",
   "execution_count": 44,
   "id": "c0e18230-0810-4fe2-a9aa-988a16bed939",
   "metadata": {
    "tags": []
   },
   "outputs": [
    {
     "data": {
      "text/plain": [
       "0       0.384585\n",
       "1      -0.090066\n",
       "2      -0.163102\n",
       "3      -0.083140\n",
       "4       0.091885\n",
       "          ...   \n",
       "1087    0.365986\n",
       "1088    0.389770\n",
       "1089    0.087268\n",
       "1090   -0.082408\n",
       "1091   -0.045718\n",
       "Name: means, Length: 1092, dtype: float64"
      ]
     },
     "execution_count": 44,
     "metadata": {},
     "output_type": "execute_result"
    }
   ],
   "source": [
    "#PRss['means'] "
   ]
  },
  {
   "cell_type": "code",
   "execution_count": 45,
   "id": "3543bd1a-5e62-4698-840f-44c52e6f82b9",
   "metadata": {
    "tags": []
   },
   "outputs": [
    {
     "data": {
      "text/plain": [
       "<matplotlib.axes._subplots.AxesSubplot at 0x7fe89f27f4d0>"
      ]
     },
     "execution_count": 45,
     "metadata": {},
     "output_type": "execute_result"
    },
    {
     "data": {
      "image/png": "[encoded data removed]",
      "text/plain": [
       "<Figure size 640x480 with 1 Axes>"
      ]
     },
     "metadata": {},
     "output_type": "display_data"
    }
   ],
   "source": [
    "sns.violinplot(data=PRss,  y=\"means\", x = 'target_phenotype', hue=\"target_phenotype\")\n"
   ]
  },
  {
   "cell_type": "code",
   "execution_count": null,
   "id": "e37638d8-da6b-42cf-a855-1b7f57c8a72f",
   "metadata": {},
   "outputs": [],
   "source": [
    "roc_auc_score(PRss['target_phenotype'],  PRSs['PRS'])"
   ]
  }
 ],
 "metadata": {
  "availableInstances": [
   {
    "_defaultOrder": 0,
    "_isFastLaunch": true,
    "category": "General purpose",
    "gpuNum": 0,
    "hideHardwareSpecs": false,
    "memoryGiB": 4,
    "name": "ml.t3.medium",
    "vcpuNum": 2
   },
   {
    "_defaultOrder": 1,
    "_isFastLaunch": false,
    "category": "General purpose",
    "gpuNum": 0,
    "hideHardwareSpecs": false,
    "memoryGiB": 8,
    "name": "ml.t3.large",
    "vcpuNum": 2
   },
   {
    "_defaultOrder": 2,
    "_isFastLaunch": false,
    "category": "General purpose",
    "gpuNum": 0,
    "hideHardwareSpecs": false,
    "memoryGiB": 16,
    "name": "ml.t3.xlarge",
    "vcpuNum": 4
   },
   {
    "_defaultOrder": 3,
    "_isFastLaunch": false,
    "category": "General purpose",
    "gpuNum": 0,
    "hideHardwareSpecs": false,
    "memoryGiB": 32,
    "name": "ml.t3.2xlarge",
    "vcpuNum": 8
   },
   {
    "_defaultOrder": 4,
    "_isFastLaunch": true,
    "category": "General purpose",
    "gpuNum": 0,
    "hideHardwareSpecs": false,
    "memoryGiB": 8,
    "name": "ml.m5.large",
    "vcpuNum": 2
   },
   {
    "_defaultOrder": 5,
    "_isFastLaunch": false,
    "category": "General purpose",
    "gpuNum": 0,
    "hideHardwareSpecs": false,
    "memoryGiB": 16,
    "name": "ml.m5.xlarge",
    "vcpuNum": 4
   },
   {
    "_defaultOrder": 6,
    "_isFastLaunch": false,
    "category": "General purpose",
    "gpuNum": 0,
    "hideHardwareSpecs": false,
    "memoryGiB": 32,
    "name": "ml.m5.2xlarge",
    "vcpuNum": 8
   },
   {
    "_defaultOrder": 7,
    "_isFastLaunch": false,
    "category": "General purpose",
    "gpuNum": 0,
    "hideHardwareSpecs": false,
    "memoryGiB": 64,
    "name": "ml.m5.4xlarge",
    "vcpuNum": 16
   },
   {
    "_defaultOrder": 8,
    "_isFastLaunch": false,
    "category": "General purpose",
    "gpuNum": 0,
    "hideHardwareSpecs": false,
    "memoryGiB": 128,
    "name": "ml.m5.8xlarge",
    "vcpuNum": 32
   },
   {
    "_defaultOrder": 9,
    "_isFastLaunch": false,
    "category": "General purpose",
    "gpuNum": 0,
    "hideHardwareSpecs": false,
    "memoryGiB": 192,
    "name": "ml.m5.12xlarge",
    "vcpuNum": 48
   },
   {
    "_defaultOrder": 10,
    "_isFastLaunch": false,
    "category": "General purpose",
    "gpuNum": 0,
    "hideHardwareSpecs": false,
    "memoryGiB": 256,
    "name": "ml.m5.16xlarge",
    "vcpuNum": 64
   },
   {
    "_defaultOrder": 11,
    "_isFastLaunch": false,
    "category": "General purpose",
    "gpuNum": 0,
    "hideHardwareSpecs": false,
    "memoryGiB": 384,
    "name": "ml.m5.24xlarge",
    "vcpuNum": 96
   },
   {
    "_defaultOrder": 12,
    "_isFastLaunch": false,
    "category": "General purpose",
    "gpuNum": 0,
    "hideHardwareSpecs": false,
    "memoryGiB": 8,
    "name": "ml.m5d.large",
    "vcpuNum": 2
   },
   {
    "_defaultOrder": 13,
    "_isFastLaunch": false,
    "category": "General purpose",
    "gpuNum": 0,
    "hideHardwareSpecs": false,
    "memoryGiB": 16,
    "name": "ml.m5d.xlarge",
    "vcpuNum": 4
   },
   {
    "_defaultOrder": 14,
    "_isFastLaunch": false,
    "category": "General purpose",
    "gpuNum": 0,
    "hideHardwareSpecs": false,
    "memoryGiB": 32,
    "name": "ml.m5d.2xlarge",
    "vcpuNum": 8
   },
   {
    "_defaultOrder": 15,
    "_isFastLaunch": false,
    "category": "General purpose",
    "gpuNum": 0,
    "hideHardwareSpecs": false,
    "memoryGiB": 64,
    "name": "ml.m5d.4xlarge",
    "vcpuNum": 16
   },
   {
    "_defaultOrder": 16,
    "_isFastLaunch": false,
    "category": "General purpose",
    "gpuNum": 0,
    "hideHardwareSpecs": false,
    "memoryGiB": 128,
    "name": "ml.m5d.8xlarge",
    "vcpuNum": 32
   },
   {
    "_defaultOrder": 17,
    "_isFastLaunch": false,
    "category": "General purpose",
    "gpuNum": 0,
    "hideHardwareSpecs": false,
    "memoryGiB": 192,
    "name": "ml.m5d.12xlarge",
    "vcpuNum": 48
   },
   {
    "_defaultOrder": 18,
    "_isFastLaunch": false,
    "category": "General purpose",
    "gpuNum": 0,
    "hideHardwareSpecs": false,
    "memoryGiB": 256,
    "name": "ml.m5d.16xlarge",
    "vcpuNum": 64
   },
   {
    "_defaultOrder": 19,
    "_isFastLaunch": false,
    "category": "General purpose",
    "gpuNum": 0,
    "hideHardwareSpecs": false,
    "memoryGiB": 384,
    "name": "ml.m5d.24xlarge",
    "vcpuNum": 96
   },
   {
    "_defaultOrder": 20,
    "_isFastLaunch": false,
    "category": "General purpose",
    "gpuNum": 0,
    "hideHardwareSpecs": true,
    "memoryGiB": 0,
    "name": "ml.geospatial.interactive",
    "supportedImageNames": [
     "sagemaker-geospatial-v1-0"
    ],
    "vcpuNum": 0
   },
   {
    "_defaultOrder": 21,
    "_isFastLaunch": true,
    "category": "Compute optimized",
    "gpuNum": 0,
    "hideHardwareSpecs": false,
    "memoryGiB": 4,
    "name": "ml.c5.large",
    "vcpuNum": 2
   },
   {
    "_defaultOrder": 22,
    "_isFastLaunch": false,
    "category": "Compute optimized",
    "gpuNum": 0,
    "hideHardwareSpecs": false,
    "memoryGiB": 8,
    "name": "ml.c5.xlarge",
    "vcpuNum": 4
   },
   {
    "_defaultOrder": 23,
    "_isFastLaunch": false,
    "category": "Compute optimized",
    "gpuNum": 0,
    "hideHardwareSpecs": false,
    "memoryGiB": 16,
    "name": "ml.c5.2xlarge",
    "vcpuNum": 8
   },
   {
    "_defaultOrder": 24,
    "_isFastLaunch": false,
    "category": "Compute optimized",
    "gpuNum": 0,
    "hideHardwareSpecs": false,
    "memoryGiB": 32,
    "name": "ml.c5.4xlarge",
    "vcpuNum": 16
   },
   {
    "_defaultOrder": 25,
    "_isFastLaunch": false,
    "category": "Compute optimized",
    "gpuNum": 0,
    "hideHardwareSpecs": false,
    "memoryGiB": 72,
    "name": "ml.c5.9xlarge",
    "vcpuNum": 36
   },
   {
    "_defaultOrder": 26,
    "_isFastLaunch": false,
    "category": "Compute optimized",
    "gpuNum": 0,
    "hideHardwareSpecs": false,
    "memoryGiB": 96,
    "name": "ml.c5.12xlarge",
    "vcpuNum": 48
   },
   {
    "_defaultOrder": 27,
    "_isFastLaunch": false,
    "category": "Compute optimized",
    "gpuNum": 0,
    "hideHardwareSpecs": false,
    "memoryGiB": 144,
    "name": "ml.c5.18xlarge",
    "vcpuNum": 72
   },
   {
    "_defaultOrder": 28,
    "_isFastLaunch": false,
    "category": "Compute optimized",
    "gpuNum": 0,
    "hideHardwareSpecs": false,
    "memoryGiB": 192,
    "name": "ml.c5.24xlarge",
    "vcpuNum": 96
   },
   {
    "_defaultOrder": 29,
    "_isFastLaunch": true,
    "category": "Accelerated computing",
    "gpuNum": 1,
    "hideHardwareSpecs": false,
    "memoryGiB": 16,
    "name": "ml.g4dn.xlarge",
    "vcpuNum": 4
   },
   {
    "_defaultOrder": 30,
    "_isFastLaunch": false,
    "category": "Accelerated computing",
    "gpuNum": 1,
    "hideHardwareSpecs": false,
    "memoryGiB": 32,
    "name": "ml.g4dn.2xlarge",
    "vcpuNum": 8
   },
   {
    "_defaultOrder": 31,
    "_isFastLaunch": false,
    "category": "Accelerated computing",
    "gpuNum": 1,
    "hideHardwareSpecs": false,
    "memoryGiB": 64,
    "name": "ml.g4dn.4xlarge",
    "vcpuNum": 16
   },
   {
    "_defaultOrder": 32,
    "_isFastLaunch": false,
    "category": "Accelerated computing",
    "gpuNum": 1,
    "hideHardwareSpecs": false,
    "memoryGiB": 128,
    "name": "ml.g4dn.8xlarge",
    "vcpuNum": 32
   },
   {
    "_defaultOrder": 33,
    "_isFastLaunch": false,
    "category": "Accelerated computing",
    "gpuNum": 4,
    "hideHardwareSpecs": false,
    "memoryGiB": 192,
    "name": "ml.g4dn.12xlarge",
    "vcpuNum": 48
   },
   {
    "_defaultOrder": 34,
    "_isFastLaunch": false,
    "category": "Accelerated computing",
    "gpuNum": 1,
    "hideHardwareSpecs": false,
    "memoryGiB": 256,
    "name": "ml.g4dn.16xlarge",
    "vcpuNum": 64
   },
   {
    "_defaultOrder": 35,
    "_isFastLaunch": false,
    "category": "Accelerated computing",
    "gpuNum": 1,
    "hideHardwareSpecs": false,
    "memoryGiB": 61,
    "name": "ml.p3.2xlarge",
    "vcpuNum": 8
   },
   {
    "_defaultOrder": 36,
    "_isFastLaunch": false,
    "category": "Accelerated computing",
    "gpuNum": 4,
    "hideHardwareSpecs": false,
    "memoryGiB": 244,
    "name": "ml.p3.8xlarge",
    "vcpuNum": 32
   },
   {
    "_defaultOrder": 37,
    "_isFastLaunch": false,
    "category": "Accelerated computing",
    "gpuNum": 8,
    "hideHardwareSpecs": false,
    "memoryGiB": 488,
    "name": "ml.p3.16xlarge",
    "vcpuNum": 64
   },
   {
    "_defaultOrder": 38,
    "_isFastLaunch": false,
    "category": "Accelerated computing",
    "gpuNum": 8,
    "hideHardwareSpecs": false,
    "memoryGiB": 768,
    "name": "ml.p3dn.24xlarge",
    "vcpuNum": 96
   },
   {
    "_defaultOrder": 39,
    "_isFastLaunch": false,
    "category": "Memory Optimized",
    "gpuNum": 0,
    "hideHardwareSpecs": false,
    "memoryGiB": 16,
    "name": "ml.r5.large",
    "vcpuNum": 2
   },
   {
    "_defaultOrder": 40,
    "_isFastLaunch": false,
    "category": "Memory Optimized",
    "gpuNum": 0,
    "hideHardwareSpecs": false,
    "memoryGiB": 32,
    "name": "ml.r5.xlarge",
    "vcpuNum": 4
   },
   {
    "_defaultOrder": 41,
    "_isFastLaunch": false,
    "category": "Memory Optimized",
    "gpuNum": 0,
    "hideHardwareSpecs": false,
    "memoryGiB": 64,
    "name": "ml.r5.2xlarge",
    "vcpuNum": 8
   },
   {
    "_defaultOrder": 42,
    "_isFastLaunch": false,
    "category": "Memory Optimized",
    "gpuNum": 0,
    "hideHardwareSpecs": false,
    "memoryGiB": 128,
    "name": "ml.r5.4xlarge",
    "vcpuNum": 16
   },
   {
    "_defaultOrder": 43,
    "_isFastLaunch": false,
    "category": "Memory Optimized",
    "gpuNum": 0,
    "hideHardwareSpecs": false,
    "memoryGiB": 256,
    "name": "ml.r5.8xlarge",
    "vcpuNum": 32
   },
   {
    "_defaultOrder": 44,
    "_isFastLaunch": false,
    "category": "Memory Optimized",
    "gpuNum": 0,
    "hideHardwareSpecs": false,
    "memoryGiB": 384,
    "name": "ml.r5.12xlarge",
    "vcpuNum": 48
   },
   {
    "_defaultOrder": 45,
    "_isFastLaunch": false,
    "category": "Memory Optimized",
    "gpuNum": 0,
    "hideHardwareSpecs": false,
    "memoryGiB": 512,
    "name": "ml.r5.16xlarge",
    "vcpuNum": 64
   },
   {
    "_defaultOrder": 46,
    "_isFastLaunch": false,
    "category": "Memory Optimized",
    "gpuNum": 0,
    "hideHardwareSpecs": false,
    "memoryGiB": 768,
    "name": "ml.r5.24xlarge",
    "vcpuNum": 96
   },
   {
    "_defaultOrder": 47,
    "_isFastLaunch": false,
    "category": "Accelerated computing",
    "gpuNum": 1,
    "hideHardwareSpecs": false,
    "memoryGiB": 16,
    "name": "ml.g5.xlarge",
    "vcpuNum": 4
   },
   {
    "_defaultOrder": 48,
    "_isFastLaunch": false,
    "category": "Accelerated computing",
    "gpuNum": 1,
    "hideHardwareSpecs": false,
    "memoryGiB": 32,
    "name": "ml.g5.2xlarge",
    "vcpuNum": 8
   },
   {
    "_defaultOrder": 49,
    "_isFastLaunch": false,
    "category": "Accelerated computing",
    "gpuNum": 1,
    "hideHardwareSpecs": false,
    "memoryGiB": 64,
    "name": "ml.g5.4xlarge",
    "vcpuNum": 16
   },
   {
    "_defaultOrder": 50,
    "_isFastLaunch": false,
    "category": "Accelerated computing",
    "gpuNum": 1,
    "hideHardwareSpecs": false,
    "memoryGiB": 128,
    "name": "ml.g5.8xlarge",
    "vcpuNum": 32
   },
   {
    "_defaultOrder": 51,
    "_isFastLaunch": false,
    "category": "Accelerated computing",
    "gpuNum": 1,
    "hideHardwareSpecs": false,
    "memoryGiB": 256,
    "name": "ml.g5.16xlarge",
    "vcpuNum": 64
   },
   {
    "_defaultOrder": 52,
    "_isFastLaunch": false,
    "category": "Accelerated computing",
    "gpuNum": 4,
    "hideHardwareSpecs": false,
    "memoryGiB": 192,
    "name": "ml.g5.12xlarge",
    "vcpuNum": 48
   },
   {
    "_defaultOrder": 53,
    "_isFastLaunch": false,
    "category": "Accelerated computing",
    "gpuNum": 4,
    "hideHardwareSpecs": false,
    "memoryGiB": 384,
    "name": "ml.g5.24xlarge",
    "vcpuNum": 96
   },
   {
    "_defaultOrder": 54,
    "_isFastLaunch": false,
    "category": "Accelerated computing",
    "gpuNum": 8,
    "hideHardwareSpecs": false,
    "memoryGiB": 768,
    "name": "ml.g5.48xlarge",
    "vcpuNum": 192
   }
  ],
  "instance_type": "ml.t3.medium",
  "kernelspec": {
   "display_name": "Python 3 (Data Science)",
   "language": "python",
   "name": "python3__SAGEMAKER_INTERNAL__arn:aws:sagemaker:sa-east-1:782484402741:image/datascience-1.0"
  },
  "language_info": {
   "codemirror_mode": {
    "name": "ipython",
    "version": 3
   },
   "file_extension": ".py",
   "mimetype": "text/x-python",
   "name": "python",
   "nbconvert_exporter": "python",
   "pygments_lexer": "ipython3",
   "version": "3.7.10"
  }
 },
 "nbformat": 4,
 "nbformat_minor": 5
}
